{
  "nbformat": 4,
  "nbformat_minor": 0,
  "metadata": {
    "colab": {
      "private_outputs": true,
      "provenance": [],
      "gpuType": "T4",
      "include_colab_link": true
    },
    "kernelspec": {
      "display_name": "Python 3",
      "name": "python3"
    },
    "gpuClass": "standard",
    "accelerator": "GPU"
  },
  "cells": [
    {
      "cell_type": "markdown",
      "metadata": {
        "id": "view-in-github",
        "colab_type": "text"
      },
      "source": [
        "<a href=\"https://colab.research.google.com/github/Sofiene-Sellami/RAS-TSYP/blob/main/CameraDetection_Presentation.ipynb\" target=\"_parent\"><img src=\"https://colab.research.google.com/assets/colab-badge.svg\" alt=\"Open In Colab\"/></a>"
      ]
    },
    {
      "cell_type": "markdown",
      "metadata": {
        "id": "7mGmQbAO5pQb"
      },
      "source": [
        "#1.Setup - Clone Repo\n",
        "Clone repo, install dependencies and check PyTorch and GPU."
      ]
    },
    {
      "cell_type": "code",
      "metadata": {
        "id": "wbvMlHd_QwMG"
      },
      "source": [
        "import os\n",
        "%cd /content\n",
        "\n",
        "!git clone https://github.com/ultralytics/yolov5  # clone repo\n",
        "%cd yolov5\n",
        "%pip install -qr requirements.txt  # install dependencies\n",
        "\n",
        "import torch\n",
        "from IPython.display import Image, clear_output  # to display images\n",
        "\n",
        "clear_output()\n",
        "print(f\"Setup complete. Using torch {torch.__version__} ({torch.cuda.get_device_properties(0).name if torch.cuda.is_available() else 'CPU'})\")"
      ],
      "execution_count": null,
      "outputs": []
    },
    {
      "cell_type": "code",
      "source": [
        "!pwd\n",
        "%cd /content/yolov5\n",
        "!wget https://github.com/ultralytics/YOLOv5/releases/download/v6.1/yolov5l.pt"
      ],
      "metadata": {
        "id": "3YLoPGXWGonb"
      },
      "execution_count": null,
      "outputs": []
    },
    {
      "cell_type": "markdown",
      "source": [
        "###Update the Attributes"
      ],
      "metadata": {
        "id": "V_q9UW5DnHPF"
      }
    },
    {
      "cell_type": "markdown",
      "source": [
        "## Run detection on a testing image"
      ],
      "metadata": {
        "id": "fZxp0bVZ20Eb"
      }
    },
    {
      "cell_type": "code",
      "metadata": {
        "id": "9K_q8mJrdz9B"
      },
      "source": [
        "!python detect.py --weights /content/yolov5/yolov5l.pt --source /content/yolov5/testvid.mp4 --data /content/yolov5/data/coco.yaml"
      ],
      "execution_count": null,
      "outputs": []
    }
  ]
}